{
 "cells": [
  {
   "cell_type": "code",
   "execution_count": 22,
   "metadata": {},
   "outputs": [],
   "source": [
    "import matplotlib.pyplot as plt, numpy as np, csv"
   ]
  },
  {
   "cell_type": "code",
   "execution_count": 23,
   "metadata": {},
   "outputs": [],
   "source": [
    "def execute(n, amount, rangemin,  rangemax):\n",
    "    def collatz(z):\n",
    "        # Unification of Collatz Conjecture rule: x is odd: 3x+1 or x is even: x/2\n",
    "        return 0.25*(2 + 7*z + (-1)*(2 + 5*z)*((-1) ** z))\n",
    "    \n",
    "    def plt_def(datavals, xlabel='',ylabel='',plttitle='', pltlegend='', pltsave=''):\n",
    "        plt.xlabel(xlabel); plt.ylabel(ylabel); plt.title(plttitle); plt.legend(loc=pltlegend); plt.savefig(pltsave, dpi=1000, format='png')\n",
    "        \n",
    "    count = 0; x = [0]; y = [n]\n",
    "    while y[-1] != 1.0:\n",
    "        count += 1; x.append(count); y.append(collatz(y[-1]))\n",
    "    y = [int(y) for y in y]\n",
    "\n",
    "    plt.figure(); plt_def(plt.plot(x,y, label=f'n={n}'), 'Number of Iterations', 'Sequence Values', 'Graphical representation of Collatz Conjecture', 'best', f'../results/Collatz Conjecture for n={n}.png'); plt.close()\n",
    "    plt_def(plt.plot(x,y, label=f'n={n}'), 'Number of Iterations', 'Sequence Values', 'Graphical representation of Collatz Conjecture', 'best', '../results/Collatz Conjecture Analysis.png')\n",
    "    \n",
    "    with open('../results/Analysis.csv', mode='a') as data:\n",
    "        datawriter = csv.writer(data, delimiter=',', quotechar='\"', quoting=csv.QUOTE_MINIMAL); datawriter.writerow(y)"
   ]
  },
  {
   "cell_type": "code",
   "execution_count": 24,
   "metadata": {},
   "outputs": [],
   "source": [
    "\n",
    "f = open(\"../results/Analysis.csv\", \"w+\")\n",
    "choice = input('Would you like to examine a random set range of values with a set size (answer A/a), a range of values with fixed size (answer B/b) or a single interger (answer  C/c): \\nAnswers can only be A/a, B/b or C/c' )\n",
    "\n",
    "if (choice == 'A' or choice =='a'):\n",
    "    amount = int(input('How many numbers would you like to examine?' ))\n",
    "    rangemin = int(input('Enter the minimum value of you numbers:' ))\n",
    "    rangemax = int(input('Enter the maximum value of you numbers:' ))\n",
    "    if amount == 0: amount = amount+1 \n",
    "    elif rangemin == 0: rangemin = rangemin+1 \n",
    "    elif rangemax == 0: rangemax = rangemax+1\n",
    "    datalist = np.random.randint(rangemin, rangemax, amount)\n",
    "    for n in datalist:\n",
    "        execute(n, amount, rangemin,  rangemax)\n",
    "    \n",
    "elif (choice == 'B' or choice == 'b'):\n",
    "    rangemin = int(input('Enter the minimum value of you numbers:' ))\n",
    "    rangemax = int(input('Enter the maximum value of you numbers:' ))\n",
    "    if rangemin == 0: rangemin = rangemin+1\n",
    "    elif rangemax == 0: rangemax = rangemax+1\n",
    "    datalist = list(range(rangemin, rangemax))\n",
    "    for n in datalist:\n",
    "        execute(n, 0, rangemin, rangemax)\n",
    "        \n",
    "elif (choice == 'C' or choice ==  'c'):\n",
    "    datalist = int(input('Supply an integer for analysis:' ))\n",
    "    n = datalist\n",
    "    execute(n, 0, 0, 0)\n",
    "    \n",
    "else:\n",
    "    print('Please start again')\n",
    "plt.close(); f.close()"
   ]
  }
 ],
 "metadata": {
  "interpreter": {
   "hash": "7e533d5a0847ec3765d7e8039bc54d9e87bcfe5631de66de0bc4b2b65535d42d"
  },
  "kernelspec": {
   "display_name": "Python 3.9.7 64-bit ('base': conda)",
   "language": "python",
   "name": "python3"
  },
  "language_info": {
   "codemirror_mode": {
    "name": "ipython",
    "version": 3
   },
   "file_extension": ".py",
   "mimetype": "text/x-python",
   "name": "python",
   "nbconvert_exporter": "python",
   "pygments_lexer": "ipython3",
   "version": "3.11.3"
  },
  "orig_nbformat": 4
 },
 "nbformat": 4,
 "nbformat_minor": 2
}
