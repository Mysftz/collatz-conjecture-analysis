{
 "cells": [
  {
   "cell_type": "code",
   "execution_count": 7,
   "metadata": {},
   "outputs": [],
   "source": [
    "import matplotlib.pyplot as plt, numpy as np, csv"
   ]
  },
  {
   "cell_type": "code",
   "execution_count": 8,
   "metadata": {},
   "outputs": [],
   "source": [
    "def execute(n, pltdata, pltind, pltgro, filename, amount, rangemin,  rangemax):\n",
    "    count = 0; x = [0]; y = [n]\n",
    "    while y[-1] != 1.0:\n",
    "        count += 1; x.append(count); y.append(0.25*(2 + 7*(y[-1]) + (-1)*(2 + 5*(y[-1]))*((-1) ** (y[-1]))))\n",
    "    y = [int(y) for y in y]\n",
    "    \n",
    "    if pltind == 1:\n",
    "        plt.figure(); plt.plot(x,y); plt.xlabel('Number of Iterations'); plt.ylabel('Collatz Sequence Values'); plt.title(f'Graphical representation of Collatz Conjecture \\non intial value n={n}'); plt.savefig(f'../results/Collatz_Conjecture(n={n}).png', dpi=300); plt.close()\n",
    "    \n",
    "    if pltgro == 1:\n",
    "        plt.plot(x,y); plt.xlabel('Number of Iterations'); plt.ylabel('Collatz Sequence Values'); plt.title(f'Graphical representation of Collatz Conjecture \\nfor n={pltdata}'); plt.savefig(f'../results/Collatz_Conjecture(n={pltdata}).png', dpi=1000)\n",
    "   \n",
    "    with open(filename, mode='a') as data:\n",
    "        datawriter = csv.writer(data, delimiter=',', quotechar='\"', quoting=csv.QUOTE_MINIMAL); datawriter.writerow(y)"
   ]
  },
  {
   "cell_type": "code",
   "execution_count": 9,
   "metadata": {},
   "outputs": [],
   "source": [
    "choice = input('Would you like to examine a random set range of values with a set size (answer A/a), a range of values with fixed size (answer B/b) or a single interger (answer  C/c): \\nAnswers can only be A/a, B/b or C/c' )\n",
    "pltind = input('Would you like to create a plot for each individual n value? Answer can be Y/y or N/n' ); pltgro = input('Would you like to create a plot for all n value? Answer can be Y/y or N/n' )\n",
    "\n",
    "if (pltind == 'Y' or pltind == 'y'): pltind = 1\n",
    "elif (pltind == 'N' or pltind == 'n'): pltind = 0\n",
    "else: pltind = 0\n",
    "\n",
    "if (pltgro == 'Y' or pltgro == 'y'): pltgro = 1\n",
    "elif (pltgro == 'N' or pltgro == 'n'): pltgro = 0\n",
    "else: pltgro = 1\n",
    "\n",
    "if (choice == 'A' or choice == 'a'):\n",
    "    amount = int(input('How many numbers would you like to examine?' )); rangemin = int(input('Enter the minimum value of you numbers:' )); rangemax = int(input('Enter the maximum value of you numbers:' ))\n",
    "    if amount == 0: amount = amount+1 \n",
    "    elif rangemin == 0: rangemin = rangemin+1 \n",
    "    elif rangemax == 0: rangemax = rangemax+1\n",
    "    datalist = np.random.randint(rangemin, rangemax, amount); filename = (f\"../results/Analysis(n={rangemin}-{rangemax}_size={amount}).csv\"); f = open(filename, \"w+\"); pltdata = (f'{rangemin}-{rangemax}_size={amount}')\n",
    "    for n in datalist: execute(n, pltdata, pltind, pltgro, filename, amount, rangemin,  rangemax)\n",
    "    \n",
    "elif (choice == 'B' or choice == 'b'):\n",
    "    rangemin = int(input('Enter the minimum value of you numbers:' )); rangemax = int(input('Enter the maximum value of you numbers:' ))\n",
    "    if rangemin == 0: rangemin = rangemin+1\n",
    "    elif rangemax == 0: rangemax = rangemax+1\n",
    "    datalist = list(range(rangemin, rangemax)); filename = (f\"../results/Analysis(n={rangemin}-{rangemax}).csv\"); f = open(filename, \"w+\"); pltdata = (f'{rangemin}-{rangemax}')\n",
    "    for n in datalist: execute(n, pltdata, pltind, pltgro, filename, 0, rangemin, rangemax)\n",
    "        \n",
    "elif (choice == 'C' or choice ==  'c'):\n",
    "    datalist = int(input('Supply an integer for analysis:' )); n = datalist; filename = (f\"../results/Analysis(n={n}).csv\"); f = open(filename, \"w+\"); pltdata = (f'{n}'); execute(n, pltdata, pltind, 0, filename, 0, 0, 0)\n",
    "    \n",
    "else:\n",
    "    print('Please start again')\n",
    "plt.close(); f.close()"
   ]
  }
 ],
 "metadata": {
  "interpreter": {
   "hash": "7e533d5a0847ec3765d7e8039bc54d9e87bcfe5631de66de0bc4b2b65535d42d"
  },
  "kernelspec": {
   "display_name": "Python 3.9.7 64-bit ('base': conda)",
   "language": "python",
   "name": "python3"
  },
  "language_info": {
   "codemirror_mode": {
    "name": "ipython",
    "version": 3
   },
   "file_extension": ".py",
   "mimetype": "text/x-python",
   "name": "python",
   "nbconvert_exporter": "python",
   "pygments_lexer": "ipython3",
   "version": "3.9.6"
  },
  "orig_nbformat": 4
 },
 "nbformat": 4,
 "nbformat_minor": 2
}
